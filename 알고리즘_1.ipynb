{
  "nbformat": 4,
  "nbformat_minor": 0,
  "metadata": {
    "colab": {
      "name": "알고리즘 1.ipynb",
      "provenance": [],
      "authorship_tag": "ABX9TyMqSQy8k7RKFI4ZZdkTxJD1",
      "include_colab_link": true
    },
    "kernelspec": {
      "name": "python3",
      "display_name": "Python 3"
    },
    "language_info": {
      "name": "python"
    }
  },
  "cells": [
    {
      "cell_type": "markdown",
      "metadata": {
        "id": "view-in-github",
        "colab_type": "text"
      },
      "source": [
        "<a href=\"https://colab.research.google.com/github/janghun0530/Python_repo/blob/main/%EC%95%8C%EA%B3%A0%EB%A6%AC%EC%A6%98_1.ipynb\" target=\"_parent\"><img src=\"https://colab.research.google.com/assets/colab-badge.svg\" alt=\"Open In Colab\"/></a>"
      ]
    },
    {
      "cell_type": "code",
      "execution_count": 2,
      "metadata": {
        "colab": {
          "base_uri": "https://localhost:8080/"
        },
        "id": "We4x-tEXJOiv",
        "outputId": "09d3bc5c-6c1a-4856-ae05-c93afc698a15"
      },
      "outputs": [
        {
          "output_type": "stream",
          "name": "stdout",
          "text": [
            "3개의 정수값을 입력하시오\n",
            "n1의 정수값을 입력: 1\n",
            "n1의 정수값을 입력: 2\n",
            "n1의 정수값을 입력: 3\n",
            "2.0\n"
          ]
        }
      ],
      "source": [
        "print(\"3개의 정수값을 입력하시오\")\n",
        "n1 = int(input(\"n1의 정수값을 입력: \"))\n",
        "n2 = int(input(\"n1의 정수값을 입력: \"))\n",
        "n3 = int(input(\"n1의 정수값을 입력: \"))\n",
        "\n",
        "total = n1 + n2 + n3;\n",
        "average = total /3 ;\n",
        "print(average)"
      ]
    },
    {
      "cell_type": "code",
      "source": [
        "import math\n",
        "print(\"'a, b, c' 3개의 값을 입력하시오\")\n",
        "a = int(input(\"Enter the a: \"))\n",
        "b = int(input(\"Enter the b: \"))\n",
        "c = int(input(\"Enter the c: \"))\n",
        "\n",
        "d = math.sqrt(b*b) - (4*a*c);\n",
        "x1 = (-b+d) / (2 * a);\n",
        "x2 = (-b-d) / (2 * a);\n",
        "print(x1, x2)"
      ],
      "metadata": {
        "colab": {
          "base_uri": "https://localhost:8080/"
        },
        "id": "082DlCWFJxMy",
        "outputId": "a598b5b3-7bd0-4981-c244-1129c259dc59"
      },
      "execution_count": 3,
      "outputs": [
        {
          "output_type": "stream",
          "name": "stdout",
          "text": [
            "'a, b, c' 3개의 값을 입력하시오\n",
            "Enter the a: 5\n",
            "Enter the b: -1\n",
            "Enter the c: -2\n",
            "4.2 -4.0\n"
          ]
        }
      ]
    },
    {
      "cell_type": "code",
      "source": [
        "import math\n",
        "\n",
        "a = int(input(\"a의 값을 입력하세요: \"))\n",
        "b = int(input(\"b의 값을 입력하세요: \"))\n",
        "c = int(input(\"c의 값을 입력하세요: \"))\n",
        "\n",
        "x1 = ( (-b + (math.sqrt(math.pow(b,2) - 4 * a * c)))/2 * a)\n",
        "x2 = ( (-b - (math.sqrt(math.pow(b,2) - 4 * a * c)))/2 * a)\n",
        "\n",
        "print(\"x1 = \" , x1)\n",
        "print(\"x2 = \" , x2)"
      ],
      "metadata": {
        "colab": {
          "base_uri": "https://localhost:8080/"
        },
        "id": "gr5EFBQkKBsj",
        "outputId": "8ca74977-e168-4b99-cf26-dd5d8530eb51"
      },
      "execution_count": 4,
      "outputs": [
        {
          "output_type": "stream",
          "name": "stdout",
          "text": [
            "a의 값을 입력하세요: 5\n",
            "b의 값을 입력하세요: -1\n",
            "c의 값을 입력하세요: -2\n",
            "x1 =  18.50781059358212\n",
            "x2 =  -13.507810593582121\n"
          ]
        }
      ]
    },
    {
      "cell_type": "code",
      "source": [
        "total = 0\n",
        "counter = 1\n",
        "while counter <= 10:\n",
        "  grade=int(input (\"Enter grade: \"))\n",
        "  total = grade + total\n",
        "  counter = counter + 1\n",
        "average = total / 10\n",
        "print(average)"
      ],
      "metadata": {
        "colab": {
          "base_uri": "https://localhost:8080/"
        },
        "id": "d7TSkErNKYaP",
        "outputId": "547aeaac-a853-44f6-868c-5f9bee6e9eff"
      },
      "execution_count": 5,
      "outputs": [
        {
          "output_type": "stream",
          "name": "stdout",
          "text": [
            "Enter grade: 1\n",
            "Enter grade: 2\n",
            "Enter grade: 3\n",
            "Enter grade: 4\n",
            "Enter grade: 5\n",
            "Enter grade: 6\n",
            "Enter grade: 7\n",
            "Enter grade: 8\n",
            "Enter grade: 9\n",
            "Enter grade: 10\n",
            "5.5\n"
          ]
        }
      ]
    }
  ]
}